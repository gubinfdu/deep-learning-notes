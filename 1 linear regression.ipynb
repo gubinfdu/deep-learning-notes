{
 "cells": [
  {
   "cell_type": "code",
   "execution_count": 1,
   "metadata": {},
   "outputs": [],
   "source": [
    "from mxnet import ndarray as nd\n",
    "from mxnet import autograd\n",
    "from mxnet import gluon\n",
    "import numpy as np"
   ]
  },
  {
   "cell_type": "markdown",
   "metadata": {},
   "source": [
    "# data input"
   ]
  },
  {
   "cell_type": "code",
   "execution_count": 2,
   "metadata": {
    "collapsed": true
   },
   "outputs": [],
   "source": [
    "num_inputs = 2\n",
    "num_examples = 1000\n",
    "\n",
    "true_w = [2, -3.4]\n",
    "true_b = 4.2\n",
    "\n",
    "x = nd.random_normal(shape = (num_examples, num_inputs))\n",
    "y = true_w[0] * x[:, 0] + true_w[1] * x[:, 1] + true_b\n",
    "y += 0.01 * nd.random_normal(shape = y.shape)"
   ]
  },
  {
   "cell_type": "code",
   "execution_count": 3,
   "metadata": {
    "collapsed": true
   },
   "outputs": [],
   "source": [
    "batch_size = 10\n",
    "dataset = gluon.data.ArrayDataset(x, y)\n",
    "data_iter = gluon.data.DataLoader(dataset, batch_size, shuffle = True)"
   ]
  },
  {
   "cell_type": "code",
   "execution_count": 4,
   "metadata": {},
   "outputs": [
    {
     "name": "stdout",
     "output_type": "stream",
     "text": [
      "\n",
      "[[ 0.39264485  1.1282748 ]\n",
      " [ 0.29963875 -1.80463898]\n",
      " [ 1.76908457  0.52072245]\n",
      " [ 0.09339606  0.88949865]\n",
      " [-0.17763226  0.02796114]\n",
      " [ 2.20097232  1.13751543]\n",
      " [ 1.05980444  0.94386303]\n",
      " [ 0.03699936  0.67858571]\n",
      " [ 1.32673681 -0.84065247]\n",
      " [-1.03651214 -0.7420857 ]]\n",
      "<NDArray 10x2 @cpu(0)> \n",
      "[  1.14222038  10.94057178   5.95964432   1.37114787   3.75144386\n",
      "   4.73586512   3.11786199   1.94827938   9.71533966   4.64260244]\n",
      "<NDArray 10 @cpu(0)>\n"
     ]
    }
   ],
   "source": [
    "for data,label in data_iter:\n",
    "    print (data, label)\n",
    "    break"
   ]
  },
  {
   "cell_type": "markdown",
   "metadata": {},
   "source": [
    "# define model"
   ]
  },
  {
   "cell_type": "code",
   "execution_count": 5,
   "metadata": {
    "collapsed": true
   },
   "outputs": [],
   "source": [
    "net = gluon.nn.Sequential()\n",
    "net.add(gluon.nn.Dense(1))\n",
    "net.initialize() # initialize parameter\n",
    "square_loss = gluon.loss.L2Loss() # lost function\n",
    "trainer = gluon.Trainer(net.collect_params(), 'sgd', {'learning_rate': 0.1}) # optimization"
   ]
  },
  {
   "cell_type": "markdown",
   "metadata": {},
   "source": [
    "# training"
   ]
  },
  {
   "cell_type": "code",
   "execution_count": 6,
   "metadata": {},
   "outputs": [
    {
     "name": "stdout",
     "output_type": "stream",
     "text": [
      "epoch 0, average loss: 0.900171\n",
      "epoch 1, average loss: 0.000049\n",
      "epoch 2, average loss: 0.000049\n",
      "epoch 3, average loss: 0.000049\n",
      "epoch 4, average loss: 0.000049\n"
     ]
    }
   ],
   "source": [
    "epochs = 5\n",
    "batch_size = 10\n",
    "for e in range(epochs):\n",
    "    total_loss = 0\n",
    "    for data, label in data_iter:\n",
    "        with autograd.record():\n",
    "            output = net(data)\n",
    "            loss = square_loss(output, label)\n",
    "        loss.backward()\n",
    "        trainer.step(batch_size)\n",
    "        total_loss += nd.sum(loss).asscalar()\n",
    "    print ('epoch %d, average loss: %f' % (e, total_loss/num_examples))"
   ]
  },
  {
   "cell_type": "code",
   "execution_count": 7,
   "metadata": {},
   "outputs": [
    {
     "name": "stdout",
     "output_type": "stream",
     "text": [
      "[2, -3.4] \n",
      "[[ 2.00070047 -3.39904284]]\n",
      "<NDArray 1x2 @cpu(0)>\n",
      "4.2 \n",
      "[ 4.20097208]\n",
      "<NDArray 1 @cpu(0)>\n"
     ]
    }
   ],
   "source": [
    "dense = net[0] # get layer\n",
    "print (true_w, dense.weight.data()) # get parameter\n",
    "print (true_b, dense.bias.data())"
   ]
  },
  {
   "cell_type": "code",
   "execution_count": 8,
   "metadata": {
    "collapsed": true
   },
   "outputs": [],
   "source": [
    "# dense.weight? or dense.weight?? get document"
   ]
  }
 ],
 "metadata": {
  "kernelspec": {
   "display_name": "Python 3",
   "language": "python",
   "name": "python3"
  },
  "language_info": {
   "codemirror_mode": {
    "name": "ipython",
    "version": 3
   },
   "file_extension": ".py",
   "mimetype": "text/x-python",
   "name": "python",
   "nbconvert_exporter": "python",
   "pygments_lexer": "ipython3",
   "version": "3.6.3"
  }
 },
 "nbformat": 4,
 "nbformat_minor": 2
}
